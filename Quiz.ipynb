{
 "cells": [
  {
   "cell_type": "markdown",
   "metadata": {},
   "source": [
    "## Quiz"
   ]
  },
  {
   "cell_type": "raw",
   "metadata": {},
   "source": [
    "1. Two strings are anagrams if they are written using the same exact letters, ignoring space and capitalization. Write a Python program to determine if these strings are anagrams: \"Eleven plus Two\" and \"Twelve plus One\""
   ]
  },
  {
   "cell_type": "code",
   "execution_count": 86,
   "metadata": {},
   "outputs": [
    {
     "name": "stdout",
     "output_type": "stream",
     "text": [
      "{'e': 3, 'l': 2, 'v': 1, 'n': 1, 'p': 1, 'u': 1, 's': 1, 't': 1, 'w': 1, 'o': 1}\n",
      "{'t': 1, 'w': 1, 'e': 3, 'l': 2, 'v': 1, 'p': 1, 'u': 1, 's': 1, 'o': 1, 'n': 1}\n",
      "{('n', 1), ('e', 3), ('p', 1), ('o', 1), ('v', 1), ('t', 1), ('w', 1), ('u', 1), ('s', 1), ('l', 2)}\n",
      "{('n', 1), ('e', 3), ('p', 1), ('o', 1), ('v', 1), ('t', 1), ('w', 1), ('u', 1), ('s', 1), ('l', 2)}\n",
      "Yes, this is an anagram!\n"
     ]
    }
   ],
   "source": [
    "string_1 = 'Eleven plus Two'\n",
    "string_2 = 'Twelve plus One'\n",
    "\n",
    "chars_1 = list(string_1.lower().replace(\" \",\"\"))\n",
    "chars_2 = list(string_2.lower().replace(\" \",\"\"))\n",
    "\n",
    "def get_quick_dictionary(chars):\n",
    "    return {(char, chars.count(char)) for char in set(chars)}\n",
    "\n",
    "def get_dictionary_of_chars(chars):\n",
    "    char_dict = {}\n",
    "    for char in chars:\n",
    "        if char in char_dict:\n",
    "            char_dict[char] += 1\n",
    "        else:\n",
    "            char_dict[char] = 1\n",
    "    return char_dict\n",
    "\n",
    "#if get_dictionary_of_chars(chars_1) == get_dictionary_of_chars(chars_2):\n",
    "#    print('Yes, this is an anagram!')\n",
    "#else:\n",
    "#    print('Nope, not an anagram.')\n",
    "    \n",
    "print(get_dictionary_of_chars(chars_1)) # dict\n",
    "print(get_dictionary_of_chars(chars_2)) # dict\n",
    "print(get_quick_dictionary(chars_1)) # dictionary of sets\n",
    "print(get_quick_dictionary(chars_2)) # dictionary of sets\n",
    "\n",
    "if get_quick_dictionary(chars_1) == get_quick_dictionary(chars_2):\n",
    "    print('Yes, this is an anagram!')\n",
    "else:\n",
    "    print('Nope, not an anagram.')"
   ]
  },
  {
   "cell_type": "raw",
   "metadata": {},
   "source": [
    "2. Given gibberish = \"chickens white the beside water rain with glazed barrow wheel red a upon depends much so.\", write a Python program to print this poem: \"so much depends upon a red wheel barrow glazed with rain water beside the white chickens.\""
   ]
  },
  {
   "cell_type": "code",
   "execution_count": 67,
   "metadata": {},
   "outputs": [
    {
     "name": "stdout",
     "output_type": "stream",
     "text": [
      "so much depends upon a red wheel barrow glazed with rain water beside the white chickens.\n"
     ]
    }
   ],
   "source": [
    "gibberish = 'chickens white the beside water rain with glazed barrow wheel red a upon depends much so.'\n",
    "\n",
    "def reverse_string(string):\n",
    "    print(' '.join(string[:-1].split()[::-1])+'.')\n",
    "reverse_string(gibberish)"
   ]
  }
 ],
 "metadata": {
  "kernelspec": {
   "display_name": "Python 3",
   "language": "python",
   "name": "python3"
  },
  "language_info": {
   "codemirror_mode": {
    "name": "ipython",
    "version": 3
   },
   "file_extension": ".py",
   "mimetype": "text/x-python",
   "name": "python",
   "nbconvert_exporter": "python",
   "pygments_lexer": "ipython3",
   "version": "3.6.1"
  }
 },
 "nbformat": 4,
 "nbformat_minor": 2
}
